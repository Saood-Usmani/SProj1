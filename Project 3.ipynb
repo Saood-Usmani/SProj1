{
 "cells": [
  {
   "cell_type": "code",
   "execution_count": 1,
   "id": "dd46982b-6f20-4600-8ed7-d69f57f4b564",
   "metadata": {},
   "outputs": [],
   "source": [
    "#clear directories if they exist\n",
    "import shutil\n",
    "try:\n",
    "    shutil.rmtree(\"data/train\")\n",
    "    shutil.rmtree(\"data/test\")\n",
    "except:\n",
    "    pass"
   ]
  },
  {
   "cell_type": "code",
   "execution_count": 2,
   "id": "eaf55c51-66ba-4135-99f5-a48aca898069",
   "metadata": {},
   "outputs": [],
   "source": [
    "#create train and test directories\n",
    "import os\n",
    "from pathlib import Path\n",
    "\n",
    "Path(\"data/train/damage\").mkdir(parents=True, exist_ok=True)\n",
    "Path(\"data/train/no_damage\").mkdir(parents=True, exist_ok=True)\n",
    "\n",
    "Path(\"data/test/damage\").mkdir(parents=True, exist_ok=True)\n",
    "Path(\"data/test/no_damage\").mkdir(parents=True, exist_ok=True)"
   ]
  },
  {
   "cell_type": "code",
   "execution_count": 3,
   "id": "4f89f3ac-7777-4e35-9362-cd38284dac9f",
   "metadata": {},
   "outputs": [],
   "source": [
    "#get images from OS\n",
    "all_damage_paths = os.listdir('data/damage')\n",
    "all_no_damage_paths = os.listdir('data/no_damage')"
   ]
  },
  {
   "cell_type": "code",
   "execution_count": 4,
   "id": "d7ef65dd-aeb4-4dec-85f5-10c0519f2996",
   "metadata": {},
   "outputs": [
    {
     "name": "stdout",
     "output_type": "stream",
     "text": [
      "amount of damage images 14170\n",
      "amount of non damage images 7152\n"
     ]
    }
   ],
   "source": [
    "print(\"amount of damage images\", len(all_damage_paths))\n",
    "print(\"amount of non damage images\", len(all_no_damage_paths))"
   ]
  },
  {
   "cell_type": "code",
   "execution_count": 5,
   "id": "5aea1e67-d3ce-493f-bd25-5a01375c37ce",
   "metadata": {},
   "outputs": [
    {
     "name": "stderr",
     "output_type": "stream",
     "text": [
      "/tmp/ipykernel_5158/1449807412.py:1: DeprecationWarning: \n",
      "Pyarrow will become a required dependency of pandas in the next major release of pandas (pandas 3.0),\n",
      "(to allow more performant data types, such as the Arrow string type, and better interoperability with other libraries)\n",
      "but was not found to be installed on your system.\n",
      "If this would cause problems for you,\n",
      "please provide us feedback at https://github.com/pandas-dev/pandas/issues/54466\n",
      "        \n",
      "  import pandas as pd\n"
     ]
    },
    {
     "data": {
      "image/png": "[encoded data removed]",
      "text/plain": [
       "<Figure size 640x480 with 1 Axes>"
      ]
     },
     "metadata": {},
     "output_type": "display_data"
    }
   ],
   "source": [
    "import pandas as pd\n",
    "import seaborn as sns\n",
    "import matplotlib.pyplot as plt\n",
    "\n",
    "# Create a DataFrame with a 'Category' column using the counts from arrays\n",
    "df = pd.DataFrame({\n",
    "    'Category': ([\"damage\"] * len(all_damage_paths)) + ([\"no_damage\"] * len(all_no_damage_paths))\n",
    "})\n",
    "\n",
    "# Plot the countplot\n",
    "sns.countplot(x='Category', data=df)\n",
    "plt.title('Count of Images by Category')\n",
    "plt.xlabel('Category')\n",
    "plt.ylabel('Count')\n",
    "plt.show()"
   ]
  },
  {
   "cell_type": "code",
   "execution_count": 6,
   "id": "2d996b0a-b6b7-40d0-9656-094fd4164fc0",
   "metadata": {},
   "outputs": [
    {
     "name": "stdout",
     "output_type": "stream",
     "text": [
      "train damage image count:  11336\n",
      "test damage image count:  2834\n",
      "len of overlap:  0\n",
      "train no_damage image count:  5721\n",
      "test no_damage image count:  1431\n",
      "len of overlap:  0\n"
     ]
    }
   ],
   "source": [
    "# populate train and test variables\n",
    "import random\n",
    "\n",
    "train_damage_paths = random.sample(all_damage_paths, int(len(all_damage_paths)*0.8))\n",
    "print(\"train damage image count: \", len(train_damage_paths))\n",
    "test_damage_paths = [ p for p in all_damage_paths if p not in train_damage_paths]\n",
    "print(\"test damage image count: \", len(test_damage_paths))\n",
    "# ensure no overlap:\n",
    "overlap = [p for p in train_damage_paths if p in test_damage_paths]\n",
    "print(\"len of overlap: \", len(overlap))\n",
    "\n",
    "train_no_damage_paths = random.sample(all_no_damage_paths, int(len(all_no_damage_paths)*0.8))\n",
    "print(\"train no_damage image count: \", len(train_no_damage_paths))\n",
    "test_no_damage_paths = [ p for p in all_no_damage_paths if p not in train_no_damage_paths]\n",
    "print(\"test no_damage image count: \", len(test_no_damage_paths))\n",
    "# ensure no overlap:\n",
    "overlap = [p for p in train_no_damage_paths if p in test_no_damage_paths]\n",
    "print(\"len of overlap: \", len(overlap))"
   ]
  },
  {
   "cell_type": "code",
   "execution_count": 7,
   "id": "dc770954-9949-4d08-a357-5a6521b4eccf",
   "metadata": {},
   "outputs": [
    {
     "name": "stdout",
     "output_type": "stream",
     "text": [
      "Files in train/damage:  11336\n",
      "Files in train/no_damage:  5721\n",
      "Files in test/damage:  2834\n",
      "Files in test/no_damage:  1431\n"
     ]
    }
   ],
   "source": [
    "import shutil\n",
    "\n",
    "# Copy the \"damage\" images:\n",
    "for p in train_damage_paths:\n",
    "    if p != \".ipynb_checkpoints\":\n",
    "        shutil.copyfile(os.path.join('data', 'damage', p),\n",
    "                        os.path.join('data', 'train', 'damage', p))\n",
    "\n",
    "for p in test_damage_paths:\n",
    "    if p != \".ipynb_checkpoints\":\n",
    "        shutil.copyfile(os.path.join('data', 'damage', p),\n",
    "                        os.path.join('data', 'test', 'damage', p))\n",
    "\n",
    "# Copy the \"no_damage\" images:\n",
    "for p in train_no_damage_paths:\n",
    "    if p != \".ipynb_checkpoints\":\n",
    "        shutil.copyfile(os.path.join('data', 'no_damage', p),\n",
    "                        os.path.join('data', 'train', 'no_damage', p))\n",
    "\n",
    "for p in test_no_damage_paths:\n",
    "    if p != \".ipynb_checkpoints\":\n",
    "        shutil.copyfile(os.path.join('data', 'no_damage', p),\n",
    "                        os.path.join('data', 'test', 'no_damage', p))\n",
    "\n",
    "# Check counts:\n",
    "print(\"Files in train/damage: \", len(os.listdir(os.path.join(\"data\", \"train\", \"damage\"))))\n",
    "print(\"Files in train/no_damage: \", len(os.listdir(os.path.join(\"data\", \"train\", \"no_damage\"))))\n",
    "print(\"Files in test/damage: \", len(os.listdir(os.path.join(\"data\", \"test\", \"damage\"))))\n",
    "print(\"Files in test/no_damage: \", len(os.listdir(os.path.join(\"data\", \"test\", \"no_damage\"))))"
   ]
  },
  {
   "cell_type": "code",
   "execution_count": 8,
   "id": "19f228c8-2e6d-4eea-b15c-29df671f70b1",
   "metadata": {},
   "outputs": [
    {
     "name": "stderr",
     "output_type": "stream",
     "text": [
      "2025-04-10 05:52:45.307777: I external/local_tsl/tsl/cuda/cudart_stub.cc:31] Could not find cuda drivers on your machine, GPU will not be used.\n",
      "2025-04-10 05:52:45.369382: E external/local_xla/xla/stream_executor/cuda/cuda_dnn.cc:9261] Unable to register cuDNN factory: Attempting to register factory for plugin cuDNN when one has already been registered\n",
      "2025-04-10 05:52:45.369456: E external/local_xla/xla/stream_executor/cuda/cuda_fft.cc:607] Unable to register cuFFT factory: Attempting to register factory for plugin cuFFT when one has already been registered\n",
      "2025-04-10 05:52:45.374435: E external/local_xla/xla/stream_executor/cuda/cuda_blas.cc:1515] Unable to register cuBLAS factory: Attempting to register factory for plugin cuBLAS when one has already been registered\n",
      "2025-04-10 05:52:45.392120: I external/local_tsl/tsl/cuda/cudart_stub.cc:31] Could not find cuda drivers on your machine, GPU will not be used.\n",
      "2025-04-10 05:52:45.393967: I tensorflow/core/platform/cpu_feature_guard.cc:182] This TensorFlow binary is optimized to use available CPU instructions in performance-critical operations.\n",
      "To enable the following instructions: AVX2 FMA, in other operations, rebuild TensorFlow with the appropriate compiler flags.\n",
      "2025-04-10 05:52:46.577776: W tensorflow/compiler/tf2tensorrt/utils/py_utils.cc:38] TF-TRT Warning: Could not find TensorRT\n"
     ]
    },
    {
     "name": "stdout",
     "output_type": "stream",
     "text": [
      "Found 17057 files belonging to 2 classes.\n",
      "Using 13646 files for training.\n",
      "Using 3411 files for validation.\n"
     ]
    }
   ],
   "source": [
    "# import needed classes and functions\n",
    "import tensorflow as tf\n",
    "import tensorflow_datasets as tfds\n",
    "from tensorflow.keras.layers.experimental.preprocessing import Rescaling\n",
    "\n",
    "# path to training data\n",
    "train_data_dir = 'data/train'\n",
    "\n",
    "# controls the size of the \"batches\" of images streamed when accessing the datasets.\n",
    "# this is useful to control the memory usage with very large datasets\n",
    "batch_size = 32\n",
    "\n",
    "# target image size\n",
    "img_height = 150\n",
    "img_width = 150\n",
    "\n",
    "# note that the subset parameter can take values of \"training\", \"validation\", or \"both\";\n",
    "# the value dictates which dataset is returned (we want both)\n",
    "train_ds, val_ds = tf.keras.utils.image_dataset_from_directory(\n",
    "    train_data_dir,\n",
    "    validation_split=0.2,\n",
    "    subset=\"both\",\n",
    "    seed=123,\n",
    "    image_size=(img_height, img_width),\n",
    "    batch_size=batch_size\n",
    ")\n",
    "# rescale instance\n",
    "rescale = Rescaling(scale=1.0/255)\n",
    "\n",
    "# apply the rescale to the train and validation sets\n",
    "train_rescale_ds = train_ds.map(lambda image,label:(rescale(image),label))\n",
    "val_rescale_ds = val_ds.map(lambda image,label:(rescale(image),label))"
   ]
  },
  {
   "cell_type": "code",
   "execution_count": 9,
   "id": "38a1f4a6-b038-4909-a3a8-638a40d25465",
   "metadata": {},
   "outputs": [
    {
     "name": "stdout",
     "output_type": "stream",
     "text": [
      "Found 4265 files belonging to 2 classes.\n"
     ]
    }
   ],
   "source": [
    "# path to test data\n",
    "test_data_dir = 'data/test'\n",
    "\n",
    "# we do not set subset=both here because we do not want the test set split\n",
    "test_ds = tf.keras.utils.image_dataset_from_directory(\n",
    "    test_data_dir,\n",
    "    seed=123,\n",
    "    image_size=(img_height, img_width),\n",
    ")\n",
    "\n",
    "# approach 1: manually rescale data --\n",
    "rescale = Rescaling(scale=1.0/255)\n",
    "test_rescale_ds = test_ds.map(lambda image,label:(rescale(image),label))"
   ]
  },
  {
   "cell_type": "code",
   "execution_count": 10,
   "id": "ff687874-858c-4a59-8650-b89bcd35ad2a",
   "metadata": {},
   "outputs": [],
   "source": [
    "#convert data to numpy array for ANN use \n",
    "import numpy as np\n",
    "\n",
    "def dataset_to_numpy(dataset):\n",
    "    images = []\n",
    "    labels = []\n",
    "    \n",
    "    # Iterate over the dataset batches\n",
    "    for batch_images, batch_labels in dataset:\n",
    "        # Convert each batch to a NumPy array and collect in lists\n",
    "        images.append(batch_images.numpy())\n",
    "        labels.append(batch_labels.numpy())\n",
    "    \n",
    "    # Concatenate the list into one numpy array along the batch axis\n",
    "    images = np.concatenate(images, axis=0)\n",
    "    labels = np.concatenate(labels, axis=0)\n",
    "    return images, labels\n",
    "\n",
    "X_train, y_train = dataset_to_numpy(train_rescale_ds)\n",
    "X_val, y_val = dataset_to_numpy(val_rescale_ds)\n",
    "X_test, y_test = dataset_to_numpy(test_rescale_ds)"
   ]
  },
  {
   "cell_type": "code",
   "execution_count": 11,
   "id": "b661c93a-5bf2-48f7-8cfc-cc7e3408c911",
   "metadata": {},
   "outputs": [],
   "source": [
    "# Get the number of samples and the image shape (height, width, channels)\n",
    "num_train_samples = X_train.shape[0]\n",
    "num_val_samples = X_val.shape[0]\n",
    "num_test_samples = X_test.shape[0]\n",
    "image_shape = img_height*img_width*3\n",
    "\n",
    "# Flatten the images if needed (e.g., for an ANN)\n",
    "X_train_flat = X_train.reshape(num_train_samples, -1)\n",
    "X_val_flat = X_val.reshape(num_val_samples, -1)\n",
    "X_test_flat = X_test.reshape(num_test_samples, -1)"
   ]
  },
  {
   "cell_type": "code",
   "execution_count": 12,
   "id": "43ed5d11-abe7-4a92-afe1-5b96dcead4ce",
   "metadata": {},
   "outputs": [],
   "source": [
    "#create default ann \n",
    "from tensorflow.keras import Sequential\n",
    "from tensorflow.keras.layers import Dense\n",
    "\n",
    "image_size=img_height*img_width*3\n",
    "\n",
    "ANN = Sequential()\n",
    "ANN.add(Dense(784, activation='relu',input_shape=(image_size,)))\n",
    "\n",
    "ANN.add(Dense(128, activation='relu'))\n",
    "\n",
    "ANN.add(Dense(1, activation='sigmoid'))"
   ]
  },
  {
   "cell_type": "code",
   "execution_count": 13,
   "id": "34278ece-793c-4b28-b84a-56ea67c029d0",
   "metadata": {},
   "outputs": [
    {
     "name": "stdout",
     "output_type": "stream",
     "text": [
      "Epoch 1/40\n"
     ]
    },
    {
     "name": "stderr",
     "output_type": "stream",
     "text": [
      "2025-04-10 05:53:04.188621: W external/local_tsl/tsl/framework/cpu_allocator_impl.cc:83] Allocation of 3684420000 exceeds 10% of free system memory.\n"
     ]
    },
    {
     "name": "stdout",
     "output_type": "stream",
     "text": [
      "427/427 [==============================] - 141s 329ms/step - loss: 1.5954 - accuracy: 0.6315 - val_loss: 0.6489 - val_accuracy: 0.6884\n",
      "Epoch 2/40\n",
      "427/427 [==============================] - 137s 321ms/step - loss: 0.6138 - accuracy: 0.6930 - val_loss: 0.5724 - val_accuracy: 0.7016\n",
      "Epoch 3/40\n",
      "427/427 [==============================] - 136s 318ms/step - loss: 0.5624 - accuracy: 0.7237 - val_loss: 0.5333 - val_accuracy: 0.7573\n",
      "Epoch 5/40\n",
      "427/427 [==============================] - 136s 319ms/step - loss: 0.5762 - accuracy: 0.7072 - val_loss: 0.5994 - val_accuracy: 0.7405\n",
      "Epoch 6/40\n",
      "427/427 [==============================] - 138s 324ms/step - loss: 0.5916 - accuracy: 0.6779 - val_loss: 0.6536 - val_accuracy: 0.6681\n",
      "Epoch 7/40\n",
      "427/427 [==============================] - 137s 322ms/step - loss: 0.5907 - accuracy: 0.6646 - val_loss: 0.5986 - val_accuracy: 0.7282\n",
      "Epoch 8/40\n",
      "427/427 [==============================] - 138s 323ms/step - loss: 0.5797 - accuracy: 0.7072 - val_loss: 0.5570 - val_accuracy: 0.7353\n",
      "Epoch 10/40\n",
      "427/427 [==============================] - 137s 322ms/step - loss: 0.5741 - accuracy: 0.7122 - val_loss: 0.5609 - val_accuracy: 0.7235\n",
      "Epoch 11/40\n",
      "427/427 [==============================] - 137s 321ms/step - loss: 0.5816 - accuracy: 0.7108 - val_loss: 0.6977 - val_accuracy: 0.5535\n",
      "Epoch 12/40\n",
      "427/427 [==============================] - 138s 324ms/step - loss: 0.5857 - accuracy: 0.7036 - val_loss: 0.5546 - val_accuracy: 0.7403\n",
      "Epoch 13/40\n",
      "427/427 [==============================] - 138s 324ms/step - loss: 0.5659 - accuracy: 0.7288 - val_loss: 0.5505 - val_accuracy: 0.7405\n",
      "Epoch 14/40\n",
      "427/427 [==============================] - 138s 322ms/step - loss: 0.5737 - accuracy: 0.7173 - val_loss: 0.7363 - val_accuracy: 0.4248\n",
      "Epoch 15/40\n",
      "427/427 [==============================] - 137s 320ms/step - loss: 0.5680 - accuracy: 0.7188 - val_loss: 0.5702 - val_accuracy: 0.6998\n",
      "Epoch 16/40\n",
      "427/427 [==============================] - 138s 322ms/step - loss: 0.5659 - accuracy: 0.7241 - val_loss: 0.5489 - val_accuracy: 0.7464\n",
      "Epoch 17/40\n",
      "427/427 [==============================] - 138s 322ms/step - loss: 0.5745 - accuracy: 0.7127 - val_loss: 0.5615 - val_accuracy: 0.7259\n",
      "Epoch 18/40\n",
      "427/427 [==============================] - 138s 324ms/step - loss: 0.5746 - accuracy: 0.7026 - val_loss: 0.6265 - val_accuracy: 0.5708\n",
      "Epoch 19/40\n",
      "427/427 [==============================] - 138s 324ms/step - loss: 0.5925 - accuracy: 0.6653 - val_loss: 0.5660 - val_accuracy: 0.6681\n",
      "Epoch 20/40\n",
      "427/427 [==============================] - 138s 324ms/step - loss: 0.5696 - accuracy: 0.7105 - val_loss: 0.5511 - val_accuracy: 0.7441\n",
      "Epoch 21/40\n",
      "424/427 [============================>.] - ETA: 0s - loss: 0.5670 - accuracy: 0.7214"
     ]
    },
    {
     "name": "stderr",
     "output_type": "stream",
     "text": [
      "IOPub message rate exceeded.\n",
      "The Jupyter server will temporarily stop sending output\n",
      "to the client in order to avoid crashing it.\n",
      "To change this limit, set the config variable\n",
      "`--ServerApp.iopub_msg_rate_limit`.\n",
      "\n",
      "Current values:\n",
      "ServerApp.iopub_msg_rate_limit=1000.0 (msgs/sec)\n",
      "ServerApp.rate_limit_window=3.0 (secs)\n",
      "\n"
     ]
    },
    {
     "name": "stdout",
     "output_type": "stream",
     "text": [
      "427/427 [==============================] - 139s 326ms/step - loss: 0.5596 - accuracy: 0.7303 - val_loss: 0.5853 - val_accuracy: 0.6925\n",
      "Epoch 23/40\n",
      "427/427 [==============================] - 140s 327ms/step - loss: 0.5621 - accuracy: 0.7275 - val_loss: 0.5665 - val_accuracy: 0.7068\n",
      "Epoch 24/40\n",
      "427/427 [==============================] - 139s 326ms/step - loss: 0.5713 - accuracy: 0.7190 - val_loss: 0.5707 - val_accuracy: 0.6992\n",
      "Epoch 25/40\n",
      "427/427 [==============================] - 138s 324ms/step - loss: 0.5955 - accuracy: 0.6790 - val_loss: 0.5721 - val_accuracy: 0.7018\n",
      "Epoch 26/40\n",
      "427/427 [==============================] - 138s 324ms/step - loss: 0.5746 - accuracy: 0.6998 - val_loss: 0.6232 - val_accuracy: 0.5705\n",
      "Epoch 27/40\n",
      "427/427 [==============================] - 138s 323ms/step - loss: 0.5802 - accuracy: 0.7032 - val_loss: 0.5854 - val_accuracy: 0.6913\n",
      "Epoch 28/40\n",
      "427/427 [==============================] - 140s 328ms/step - loss: 0.5610 - accuracy: 0.7264 - val_loss: 0.5526 - val_accuracy: 0.7414\n",
      "Epoch 30/40\n",
      "427/427 [==============================] - 138s 323ms/step - loss: 0.5710 - accuracy: 0.7152 - val_loss: 0.5629 - val_accuracy: 0.7183\n",
      "Epoch 31/40\n",
      "427/427 [==============================] - 138s 324ms/step - loss: 0.5706 - accuracy: 0.7130 - val_loss: 0.5503 - val_accuracy: 0.7326\n",
      "Epoch 32/40\n",
      "427/427 [==============================] - 138s 323ms/step - loss: 0.5866 - accuracy: 0.6742 - val_loss: 0.5691 - val_accuracy: 0.7112\n",
      "Epoch 33/40\n",
      "427/427 [==============================] - 138s 324ms/step - loss: 0.5639 - accuracy: 0.7273 - val_loss: 0.5974 - val_accuracy: 0.6752\n",
      "Epoch 34/40\n",
      "427/427 [==============================] - 139s 325ms/step - loss: 0.5728 - accuracy: 0.7091 - val_loss: 0.5424 - val_accuracy: 0.7476\n",
      "Epoch 35/40\n",
      "427/427 [==============================] - 140s 329ms/step - loss: 0.5593 - accuracy: 0.7341 - val_loss: 0.5985 - val_accuracy: 0.7042\n",
      "Epoch 36/40\n",
      " 25/427 [>.............................] - ETA: 2:07 - loss: 0.5663 - accuracy: 0.7337"
     ]
    },
    {
     "name": "stderr",
     "output_type": "stream",
     "text": [
      "IOPub message rate exceeded.\n",
      "The Jupyter server will temporarily stop sending output\n",
      "to the client in order to avoid crashing it.\n",
      "To change this limit, set the config variable\n",
      "`--ServerApp.iopub_msg_rate_limit`.\n",
      "\n",
      "Current values:\n",
      "ServerApp.iopub_msg_rate_limit=1000.0 (msgs/sec)\n",
      "ServerApp.rate_limit_window=3.0 (secs)\n",
      "\n"
     ]
    },
    {
     "name": "stdout",
     "output_type": "stream",
     "text": [
      "427/427 [==============================] - 140s 328ms/step - loss: 0.5604 - accuracy: 0.7295 - val_loss: 0.5672 - val_accuracy: 0.7279\n",
      "Epoch 37/40\n",
      "427/427 [==============================] - 139s 325ms/step - loss: 0.5651 - accuracy: 0.7113 - val_loss: 0.5472 - val_accuracy: 0.7449\n",
      "Epoch 38/40\n",
      "427/427 [==============================] - 139s 326ms/step - loss: 0.5543 - accuracy: 0.7338 - val_loss: 0.5529 - val_accuracy: 0.7303\n",
      "Epoch 39/40\n",
      "427/427 [==============================] - 140s 327ms/step - loss: 0.5572 - accuracy: 0.7371 - val_loss: 0.6153 - val_accuracy: 0.6760\n",
      "Epoch 40/40\n",
      "427/427 [==============================] - 139s 327ms/step - loss: 0.5651 - accuracy: 0.7208 - val_loss: 0.5767 - val_accuracy: 0.7268\n"
     ]
    }
   ],
   "source": [
    "# Compile your model\n",
    "ANN.compile(optimizer='adam', loss='binary_crossentropy', metrics=['accuracy'])\n",
    "\n",
    "# Fit the model using the flattened training data\n",
    "history = ANN.fit(\n",
    "    X_train_flat, y_train,\n",
    "    batch_size=32,\n",
    "    epochs=40,\n",
    "    validation_data=(X_val_flat, y_val)\n",
    ")\n"
   ]
  },
  {
   "cell_type": "code",
   "execution_count": 14,
   "id": "e354316d-8811-4298-a9c5-b3cf3bf248db",
   "metadata": {},
   "outputs": [
    {
     "name": "stdout",
     "output_type": "stream",
     "text": [
      "134/134 [==============================] - 6s 44ms/step - loss: 0.5849 - accuracy: 0.7280\n",
      "Loss on test: 0.5849300622940063\n",
      "Accuracy on test: 0.7280187606811523\n"
     ]
    }
   ],
   "source": [
    "test_loss, test_acc = ANN.evaluate(X_test_flat, y_test)\n",
    "print(f\"Loss on test: {test_loss}\")\n",
    "print(f\"Accuracy on test: {test_acc}\")"
   ]
  },
  {
   "cell_type": "code",
   "execution_count": 15,
   "id": "edb3528c-777b-4915-8e5c-0256da152db0",
   "metadata": {},
   "outputs": [
    {
     "name": "stdout",
     "output_type": "stream",
     "text": [
      "Model: \"sequential_1\"\n",
      "_________________________________________________________________\n",
      " Layer (type)                Output Shape              Param #   \n",
      "=================================================================\n",
      " conv2d (Conv2D)             (None, 148, 148, 6)       168       \n",
      "                                                                 \n",
      " average_pooling2d (Average  (None, 74, 74, 6)         0         \n",
      " Pooling2D)                                                      \n",
      "                                                                 \n",
      " conv2d_1 (Conv2D)           (None, 72, 72, 16)        880       \n",
      "                                                                 \n",
      " average_pooling2d_1 (Avera  (None, 36, 36, 16)        0         \n",
      " gePooling2D)                                                    \n",
      "                                                                 \n",
      " flatten (Flatten)           (None, 20736)             0         \n",
      "                                                                 \n",
      " dense_3 (Dense)             (None, 120)               2488440   \n",
      "                                                                 \n",
      " dense_4 (Dense)             (None, 84)                10164     \n",
      "                                                                 \n",
      " dense_5 (Dense)             (None, 2)                 170       \n",
      "                                                                 \n",
      "=================================================================\n",
      "Total params: 2499822 (9.54 MB)\n",
      "Trainable params: 2499822 (9.54 MB)\n",
      "Non-trainable params: 0 (0.00 Byte)\n",
      "_________________________________________________________________\n"
     ]
    }
   ],
   "source": [
    "#create lenet5 cnn\n",
    "from keras import layers\n",
    "from keras import models\n",
    "import pandas as pd\n",
    "from keras import optimizers\n",
    "\n",
    "\n",
    "model_lenet5 = models.Sequential()\n",
    "\n",
    "# Layer 1: Convolutional layer with 6 filters of size 3x3, followed by average pooling\n",
    "model_lenet5.add(layers.Conv2D(6, kernel_size=(3, 3), activation='relu', input_shape=(150,150,3)))\n",
    "model_lenet5.add(layers.AveragePooling2D(pool_size=(2, 2)))\n",
    "\n",
    "# Layer 2: Convolutional layer with 16 filters of size 3x3, followed by average pooling\n",
    "model_lenet5.add(layers.Conv2D(16, kernel_size=(3, 3), activation='relu'))\n",
    "model_lenet5.add(layers.AveragePooling2D(pool_size=(2, 2)))\n",
    "\n",
    "# Flatten the feature maps to feed into fully connected layers\n",
    "model_lenet5.add(layers.Flatten())\n",
    "\n",
    "# Layer 3: Fully connected layer with 120 neurons\n",
    "model_lenet5.add(layers.Dense(120, activation='relu'))\n",
    "\n",
    "# Layer 4: Fully connected layer with 84 neurons\n",
    "model_lenet5.add(layers.Dense(84, activation='relu'))\n",
    "\n",
    "# Output layer: Fully connected layer with num_classes neurons (e.g., 3 )\n",
    "model_lenet5.add(layers.Dense(2, activation='softmax'))\n",
    "\n",
    "# Compile model\n",
    "model_lenet5.compile(optimizer=optimizers.RMSprop(learning_rate=1e-4), loss='sparse_categorical_crossentropy', metrics=['accuracy'])\n",
    "\n",
    "# Generating the summary of the model\n",
    "model_lenet5.summary()"
   ]
  },
  {
   "cell_type": "code",
   "execution_count": null,
   "id": "f2fed5d7-a1a8-4f07-a296-ac01b7014b45",
   "metadata": {},
   "outputs": [
    {
     "name": "stdout",
     "output_type": "stream",
     "text": [
      "Epoch 1/40\n",
      "427/427 [==============================] - 33s 75ms/step - loss: 0.6078 - accuracy: 0.6999 - val_loss: 0.5195 - val_accuracy: 0.8080\n",
      "Epoch 2/40\n",
      "427/427 [==============================] - 32s 74ms/step - loss: 0.4840 - accuracy: 0.7951 - val_loss: 0.4097 - val_accuracy: 0.8508\n",
      "Epoch 3/40\n",
      "427/427 [==============================] - 31s 73ms/step - loss: 0.4143 - accuracy: 0.8350 - val_loss: 0.4342 - val_accuracy: 0.8308\n",
      "Epoch 4/40\n",
      "427/427 [==============================] - 32s 74ms/step - loss: 0.3793 - accuracy: 0.8539 - val_loss: 0.5055 - val_accuracy: 0.7704\n",
      "Epoch 5/40\n",
      "427/427 [==============================] - 31s 72ms/step - loss: 0.3610 - accuracy: 0.8598 - val_loss: 0.4279 - val_accuracy: 0.8197\n",
      "Epoch 6/40\n",
      "427/427 [==============================] - 30s 69ms/step - loss: 0.3405 - accuracy: 0.8696 - val_loss: 0.4506 - val_accuracy: 0.8001\n",
      "Epoch 7/40\n",
      "427/427 [==============================] - 30s 70ms/step - loss: 0.3239 - accuracy: 0.8764 - val_loss: 0.3820 - val_accuracy: 0.8432\n",
      "Epoch 8/40\n",
      "427/427 [==============================] - 31s 71ms/step - loss: 0.3091 - accuracy: 0.8836 - val_loss: 0.3308 - val_accuracy: 0.8640\n",
      "Epoch 9/40\n",
      " 67/427 [===>..........................] - ETA: 23s - loss: 0.3005 - accuracy: 0.8871Epoch 13/40\n",
      "427/427 [==============================] - 31s 73ms/step - loss: 0.2383 - accuracy: 0.9069 - val_loss: 0.2545 - val_accuracy: 0.8959\n",
      "Epoch 14/40\n",
      "427/427 [==============================] - 31s 72ms/step - loss: 0.2260 - accuracy: 0.9119 - val_loss: 0.2396 - val_accuracy: 0.9003\n",
      "Epoch 15/40\n",
      "427/427 [==============================] - 31s 73ms/step - loss: 0.2124 - accuracy: 0.9174 - val_loss: 0.2329 - val_accuracy: 0.9021\n",
      "Epoch 16/40\n",
      "427/427 [==============================] - 31s 73ms/step - loss: 0.2024 - accuracy: 0.9204 - val_loss: 0.2298 - val_accuracy: 0.9038\n",
      "Epoch 17/40\n",
      "427/427 [==============================] - 31s 73ms/step - loss: 0.1896 - accuracy: 0.9275 - val_loss: 0.2730 - val_accuracy: 0.8889\n",
      "Epoch 18/40\n",
      "427/427 [==============================] - 31s 73ms/step - loss: 0.1819 - accuracy: 0.9291 - val_loss: 0.2298 - val_accuracy: 0.9003\n",
      "Epoch 19/40\n",
      "427/427 [==============================] - 31s 72ms/step - loss: 0.1696 - accuracy: 0.9329 - val_loss: 0.2161 - val_accuracy: 0.9056\n",
      "Epoch 20/40\n",
      "  3/427 [..............................] - ETA: 29s - loss: 0.1160 - accuracy: 0.9688"
     ]
    },
    {
     "name": "stderr",
     "output_type": "stream",
     "text": [
      "IOPub message rate exceeded.\n",
      "The Jupyter server will temporarily stop sending output\n",
      "to the client in order to avoid crashing it.\n",
      "To change this limit, set the config variable\n",
      "`--ServerApp.iopub_msg_rate_limit`.\n",
      "\n",
      "Current values:\n",
      "ServerApp.iopub_msg_rate_limit=1000.0 (msgs/sec)\n",
      "ServerApp.rate_limit_window=3.0 (secs)\n",
      "\n"
     ]
    }
   ],
   "source": [
    "# fit the model from image generator\n",
    "history = model_lenet5.fit(\n",
    "            train_rescale_ds,\n",
    "            batch_size=32,\n",
    "            epochs=40,\n",
    "            validation_data=val_rescale_ds\n",
    ")"
   ]
  },
  {
   "cell_type": "code",
   "execution_count": 24,
   "id": "e91341b8-2640-41c6-b983-4858c7edb5c5",
   "metadata": {},
   "outputs": [
    {
     "name": "stdout",
     "output_type": "stream",
     "text": [
      "Loss on test: 0.3093070089817047\n",
      "Accuracy on test: 0.9193434715270996\n"
     ]
    }
   ],
   "source": [
    "test_loss, test_accuracy = model_lenet5.evaluate(test_rescale_ds, verbose=0)\n",
    "print(f\"Loss on test: {test_loss}\")\n",
    "print(f\"Accuracy on test: {test_accuracy}\")"
   ]
  },
  {
   "cell_type": "code",
   "execution_count": null,
   "id": "86675b64-e2b6-4ff9-a252-7bac49453595",
   "metadata": {},
   "outputs": [],
   "source": [
    "#create alternate lenet5 cnn \n",
    "from keras import layers\n",
    "from keras import models\n",
    "import pandas as pd\n",
    "from keras import optimizers\n",
    "\n",
    "\n",
    "model_alternateLe = models.Sequential()\n",
    "\n",
    "# Layer 1: Convolutional layer with 32 filters of size 3x3, followed by average pooling\n",
    "model_alternateLe.add(layers.Conv2D(32, kernel_size=(3, 3), activation='relu', input_shape=(150,150,3)))\n",
    "model_alternateLe.add(layers.AveragePooling2D(pool_size=(2, 2)))\n",
    "\n",
    "# Layer 2: Convolutional layer with 64 filters of size 3x3, followed by average pooling\n",
    "model_alternateLe.add(layers.Conv2D(64, kernel_size=(3, 3), activation='relu'))\n",
    "model_alternateLe.add(layers.AveragePooling2D(pool_size=(2, 2)))\n",
    "\n",
    "# Layer 3: Convolutional layer with 128 filters of size 3x3, followed by average pooling\n",
    "model_alternateLe.add(layers.Conv2D(128, kernel_size=(3, 3), activation='relu'))\n",
    "model_alternateLe.add(layers.AveragePooling2D(pool_size=(2, 2)))\n",
    "\n",
    "# Layer 4: Convolutional layer with 128 filters of size 3x3, followed by average pooling\n",
    "model_alternateLe.add(layers.Conv2D(128, kernel_size=(3, 3), activation='relu'))\n",
    "model_alternateLe.add(layers.AveragePooling2D(pool_size=(2, 2)))\n",
    "\n",
    "# Flatten the feature maps to feed into fully connected layers\n",
    "model_alternateLe.add(layers.Flatten())\n",
    "\n",
    "model_alternateLe.add(layers.Dropout(0.2))\n",
    "\n",
    "\n",
    "# Layer 3: Fully connected layer with 512 neurons\n",
    "model_alternateLe.add(layers.Dense(512, activation='relu'))\n",
    "\n",
    "# Output layer: Fully connected layer with num_classes neurons (e.g., 3 )\n",
    "#this differs from the paper because we have two output classes, not one \n",
    "model_alternateLe.add(layers.Dense(2, activation='softmax'))\n",
    "\n",
    "# Compile model\n",
    "model_alternateLe.compile(optimizer=optimizers.RMSprop(learning_rate=1e-4), loss='sparse_categorical_crossentropy', metrics=['accuracy'])\n",
    "\n",
    "# Generating the summary of the model\n",
    "model_alternateLe.summary()"
   ]
  },
  {
   "cell_type": "code",
   "execution_count": 19,
   "id": "6da8251c-c1bb-410b-ada2-8180a5db32a2",
   "metadata": {},
   "outputs": [
    {
     "name": "stdout",
     "output_type": "stream",
     "text": [
      "427/427 [==============================] - 145s 338ms/step - loss: 0.6010 - accuracy: 0.6924 - val_loss: 0.5736 - val_accuracy: 0.7297\n",
      "Epoch 2/40\n",
      "427/427 [==============================] - 147s 345ms/step - loss: 0.4569 - accuracy: 0.7975 - val_loss: 0.4111 - val_accuracy: 0.8094\n",
      "Epoch 3/40\n",
      "427/427 [==============================] - 147s 345ms/step - loss: 0.3767 - accuracy: 0.8478 - val_loss: 0.3233 - val_accuracy: 0.8769\n",
      "Epoch 4/40\n",
      "427/427 [==============================] - 152s 355ms/step - loss: 0.2808 - accuracy: 0.8899 - val_loss: 0.2455 - val_accuracy: 0.9035\n",
      "Epoch 6/40\n",
      "427/427 [==============================] - 153s 358ms/step - loss: 0.1773 - accuracy: 0.9313 - val_loss: 0.2040 - val_accuracy: 0.9197\n",
      "Epoch 9/40\n",
      "427/427 [==============================] - 151s 354ms/step - loss: 0.1634 - accuracy: 0.9355 - val_loss: 0.1711 - val_accuracy: 0.9340\n",
      "Epoch 10/40\n",
      "427/427 [==============================] - 152s 356ms/step - loss: 0.1501 - accuracy: 0.9403 - val_loss: 0.2007 - val_accuracy: 0.9167\n",
      "Epoch 11/40\n",
      "427/427 [==============================] - 152s 357ms/step - loss: 0.1421 - accuracy: 0.9431 - val_loss: 0.1485 - val_accuracy: 0.9396\n",
      "Epoch 12/40\n",
      "427/427 [==============================] - 153s 358ms/step - loss: 0.1339 - accuracy: 0.9478 - val_loss: 0.1262 - val_accuracy: 0.9466\n",
      "Epoch 13/40\n",
      "427/427 [==============================] - 153s 359ms/step - loss: 0.1184 - accuracy: 0.9535 - val_loss: 0.1417 - val_accuracy: 0.9446\n",
      "Epoch 15/40\n",
      "427/427 [==============================] - 153s 358ms/step - loss: 0.1160 - accuracy: 0.9574 - val_loss: 0.1471 - val_accuracy: 0.9437\n",
      "Epoch 16/40\n",
      "427/427 [==============================] - 153s 357ms/step - loss: 0.1078 - accuracy: 0.9581 - val_loss: 0.1103 - val_accuracy: 0.9540\n",
      "Epoch 17/40\n",
      "427/427 [==============================] - 152s 357ms/step - loss: 0.1061 - accuracy: 0.9595 - val_loss: 0.1032 - val_accuracy: 0.9563\n",
      "Epoch 18/40\n",
      "427/427 [==============================] - 152s 356ms/step - loss: 0.0991 - accuracy: 0.9617 - val_loss: 0.1190 - val_accuracy: 0.9519\n",
      "Epoch 19/40\n",
      "427/427 [==============================] - 153s 359ms/step - loss: 0.0952 - accuracy: 0.9622 - val_loss: 0.1698 - val_accuracy: 0.9349\n",
      "Epoch 20/40\n",
      "427/427 [==============================] - 152s 356ms/step - loss: 0.0900 - accuracy: 0.9662 - val_loss: 0.1115 - val_accuracy: 0.9584\n"
     ]
    },
    {
     "name": "stderr",
     "output_type": "stream",
     "text": [
      "IOPub message rate exceeded.\n",
      "The Jupyter server will temporarily stop sending output\n",
      "to the client in order to avoid crashing it.\n",
      "To change this limit, set the config variable\n",
      "`--ServerApp.iopub_msg_rate_limit`.\n",
      "\n",
      "Current values:\n",
      "ServerApp.iopub_msg_rate_limit=1000.0 (msgs/sec)\n",
      "ServerApp.rate_limit_window=3.0 (secs)\n",
      "\n"
     ]
    }
   ],
   "source": [
    "# fit the model from image generator\n",
    "history = model_alternateLe.fit(\n",
    "            train_rescale_ds,\n",
    "            batch_size=32,\n",
    "            epochs=40,\n",
    "            validation_data=val_rescale_ds\n",
    ")"
   ]
  },
  {
   "cell_type": "code",
   "execution_count": 25,
   "id": "95f8ad08-ff32-4ee3-85c1-e19a37b3372f",
   "metadata": {},
   "outputs": [
    {
     "name": "stdout",
     "output_type": "stream",
     "text": [
      "Loss on test: 0.09453023225069046\n",
      "Accuracy on test: 0.9706916809082031\n"
     ]
    }
   ],
   "source": [
    "test_loss, test_accuracy = model_alternateLe.evaluate(test_rescale_ds, verbose=0)\n",
    "print(f\"Loss on test: {test_loss}\")\n",
    "print(f\"Accuracy on test: {test_accuracy}\")"
   ]
  },
  {
   "cell_type": "code",
   "execution_count": 21,
   "id": "2fe601d6-3b27-484e-a140-2acd58080e52",
   "metadata": {},
   "outputs": [
    {
     "name": "stdout",
     "output_type": "stream",
     "text": [
      "Model: \"sequential_4\"\n",
      "_________________________________________________________________\n",
      " Layer (type)                Output Shape              Param #   \n",
      "=================================================================\n",
      " sequential_3 (Sequential)   (None, 150, 150, 3)       0         \n",
      "                                                                 \n",
      " vgg16 (Functional)          (None, 4, 4, 512)         14714688  \n",
      "                                                                 \n",
      " flatten_2 (Flatten)         (None, 8192)              0         \n",
      "                                                                 \n",
      " dense_8 (Dense)             (None, 128)               1048704   \n",
      "                                                                 \n",
      " batch_normalization (Batch  (None, 128)               512       \n",
      " Normalization)                                                  \n",
      "                                                                 \n",
      " dropout_1 (Dropout)         (None, 128)               0         \n",
      "                                                                 \n",
      " dense_9 (Dense)             (None, 64)                8256      \n",
      "                                                                 \n",
      " batch_normalization_1 (Bat  (None, 64)                256       \n",
      " chNormalization)                                                \n",
      "                                                                 \n",
      " dropout_2 (Dropout)         (None, 64)                0         \n",
      "                                                                 \n",
      " dense_10 (Dense)            (None, 2)                 130       \n",
      "                                                                 \n",
      "=================================================================\n",
      "Total params: 15772546 (60.17 MB)\n",
      "Trainable params: 8136898 (31.04 MB)\n",
      "Non-trainable params: 7635648 (29.13 MB)\n",
      "_________________________________________________________________\n",
      "Epoch 1/40\n",
      "427/427 [==============================] - 621s 1s/step - loss: 0.5434 - accuracy: 0.7837 - val_loss: 0.3065 - val_accuracy: 0.8804\n",
      "Epoch 2/40\n",
      "427/427 [==============================] - 620s 1s/step - loss: 0.3704 - accuracy: 0.8608 - val_loss: 0.2635 - val_accuracy: 0.8991\n",
      "Epoch 3/40\n",
      "427/427 [==============================] - 621s 1s/step - loss: 0.2898 - accuracy: 0.8934 - val_loss: 0.2695 - val_accuracy: 0.9074\n",
      "Epoch 5/40\n",
      "427/427 [==============================] - 617s 1s/step - loss: 0.2420 - accuracy: 0.9091 - val_loss: 0.1976 - val_accuracy: 0.9291\n",
      "Epoch 7/40\n",
      "427/427 [==============================] - 618s 1s/step - loss: 0.2188 - accuracy: 0.9190 - val_loss: 0.2487 - val_accuracy: 0.9132\n",
      "Epoch 8/40\n",
      "427/427 [==============================] - 656s 2s/step - loss: 0.2067 - accuracy: 0.9234 - val_loss: 0.1510 - val_accuracy: 0.9384\n",
      "Epoch 9/40\n",
      "427/427 [==============================] - 655s 2s/step - loss: 0.1978 - accuracy: 0.9280 - val_loss: 0.1406 - val_accuracy: 0.9422\n",
      "Epoch 10/40\n",
      "427/427 [==============================] - 616s 1s/step - loss: 0.1886 - accuracy: 0.9320 - val_loss: 0.1417 - val_accuracy: 0.9414\n",
      "Epoch 11/40\n",
      "427/427 [==============================] - 620s 1s/step - loss: 0.1721 - accuracy: 0.9367 - val_loss: 0.1339 - val_accuracy: 0.9475\n",
      "Epoch 12/40\n",
      "427/427 [==============================] - 617s 1s/step - loss: 0.1641 - accuracy: 0.9412 - val_loss: 0.1388 - val_accuracy: 0.9425\n",
      "Epoch 13/40\n",
      "427/427 [==============================] - 620s 1s/step - loss: 0.1586 - accuracy: 0.9420 - val_loss: 0.1293 - val_accuracy: 0.9502\n",
      "Epoch 14/40\n",
      "427/427 [==============================] - 622s 1s/step - loss: 0.1575 - accuracy: 0.9440 - val_loss: 0.1142 - val_accuracy: 0.9549\n",
      "Epoch 15/40\n",
      "427/427 [==============================] - 621s 1s/step - loss: 0.1439 - accuracy: 0.9474 - val_loss: 0.1490 - val_accuracy: 0.9464\n",
      "Epoch 16/40\n",
      "427/427 [==============================] - 620s 1s/step - loss: 0.1358 - accuracy: 0.9524 - val_loss: 0.1242 - val_accuracy: 0.9510\n",
      "Epoch 17/40\n",
      "427/427 [==============================] - 620s 1s/step - loss: 0.1349 - accuracy: 0.9508 - val_loss: 0.1786 - val_accuracy: 0.9264\n",
      "Epoch 18/40\n",
      "427/427 [==============================] - 615s 1s/step - loss: 0.1234 - accuracy: 0.9546 - val_loss: 0.1086 - val_accuracy: 0.9613\n",
      "Epoch 19/40\n",
      "427/427 [==============================] - 615s 1s/step - loss: 0.1219 - accuracy: 0.9565 - val_loss: 0.2141 - val_accuracy: 0.9115\n",
      "Epoch 20/40\n",
      "427/427 [==============================] - 616s 1s/step - loss: 0.1167 - accuracy: 0.9587 - val_loss: 0.1507 - val_accuracy: 0.9422\n",
      "Epoch 21/40\n",
      "427/427 [==============================] - 615s 1s/step - loss: 0.1142 - accuracy: 0.9586 - val_loss: 0.1121 - val_accuracy: 0.9590\n",
      "Epoch 22/40\n",
      "427/427 [==============================] - 618s 1s/step - loss: 0.1089 - accuracy: 0.9609 - val_loss: 0.1117 - val_accuracy: 0.9619\n",
      "Epoch 23/40\n",
      "427/427 [==============================] - 618s 1s/step - loss: 0.1071 - accuracy: 0.9617 - val_loss: 0.1317 - val_accuracy: 0.9505\n",
      "Epoch 24/40\n",
      "427/427 [==============================] - 619s 1s/step - loss: 0.1084 - accuracy: 0.9608 - val_loss: 0.1091 - val_accuracy: 0.9610\n",
      "Epoch 25/40\n",
      "427/427 [==============================] - 620s 1s/step - loss: 0.1039 - accuracy: 0.9631 - val_loss: 0.1273 - val_accuracy: 0.9554\n",
      "Epoch 26/40\n",
      "427/427 [==============================] - 620s 1s/step - loss: 0.0981 - accuracy: 0.9660 - val_loss: 0.1086 - val_accuracy: 0.9631\n",
      "Epoch 27/40\n",
      "427/427 [==============================] - 625s 1s/step - loss: 0.0947 - accuracy: 0.9683 - val_loss: 0.1694 - val_accuracy: 0.9358\n",
      "Epoch 28/40\n",
      "164/427 [==========>...................] - ETA: 5:22 - loss: 0.0968 - accuracy: 0.9651"
     ]
    },
    {
     "name": "stderr",
     "output_type": "stream",
     "text": [
      "IOPub message rate exceeded.\n",
      "The Jupyter server will temporarily stop sending output\n",
      "to the client in order to avoid crashing it.\n",
      "To change this limit, set the config variable\n",
      "`--ServerApp.iopub_msg_rate_limit`.\n",
      "\n",
      "Current values:\n",
      "ServerApp.iopub_msg_rate_limit=1000.0 (msgs/sec)\n",
      "ServerApp.rate_limit_window=3.0 (secs)\n",
      "\n"
     ]
    },
    {
     "name": "stdout",
     "output_type": "stream",
     "text": [
      "427/427 [==============================] - 623s 1s/step - loss: 0.0918 - accuracy: 0.9672 - val_loss: 0.1587 - val_accuracy: 0.9370\n",
      "Epoch 30/40\n",
      "427/427 [==============================] - 621s 1s/step - loss: 0.0931 - accuracy: 0.9684 - val_loss: 0.1148 - val_accuracy: 0.9578\n",
      "Epoch 31/40\n",
      "427/427 [==============================] - 620s 1s/step - loss: 0.0830 - accuracy: 0.9707 - val_loss: 0.1092 - val_accuracy: 0.9645\n",
      "Epoch 32/40\n",
      "427/427 [==============================] - 620s 1s/step - loss: 0.0843 - accuracy: 0.9721 - val_loss: 0.1292 - val_accuracy: 0.9569\n",
      "Epoch 33/40\n",
      "427/427 [==============================] - 617s 1s/step - loss: 0.0794 - accuracy: 0.9726 - val_loss: 0.1177 - val_accuracy: 0.9598\n",
      "Epoch 34/40\n",
      "427/427 [==============================] - 613s 1s/step - loss: 0.0777 - accuracy: 0.9733 - val_loss: 0.1176 - val_accuracy: 0.9592\n",
      "Epoch 35/40\n",
      "427/427 [==============================] - 612s 1s/step - loss: 0.0765 - accuracy: 0.9741 - val_loss: 0.1011 - val_accuracy: 0.9634\n",
      "Epoch 36/40\n",
      "427/427 [==============================] - 612s 1s/step - loss: 0.0824 - accuracy: 0.9733 - val_loss: 0.0921 - val_accuracy: 0.9672\n",
      "Epoch 37/40\n",
      "427/427 [==============================] - 615s 1s/step - loss: 0.0709 - accuracy: 0.9754 - val_loss: 0.1974 - val_accuracy: 0.9302\n",
      "Epoch 38/40\n",
      "427/427 [==============================] - 617s 1s/step - loss: 0.0749 - accuracy: 0.9749 - val_loss: 0.0983 - val_accuracy: 0.9663\n",
      "Epoch 39/40\n",
      "427/427 [==============================] - 632s 1s/step - loss: 0.0785 - accuracy: 0.9733 - val_loss: 0.1052 - val_accuracy: 0.9639\n",
      "Epoch 40/40\n",
      "427/427 [==============================] - 612s 1s/step - loss: 0.0645 - accuracy: 0.9782 - val_loss: 0.1098 - val_accuracy: 0.9631\n"
     ]
    }
   ],
   "source": [
    "#create vgg16 model\n",
    "import tensorflow as tf\n",
    "from tensorflow.keras import layers, models, optimizers\n",
    "from keras.applications.vgg16 import VGG16\n",
    "\n",
    "# Define the input shape\n",
    "input_shape = (150, 150, 3)\n",
    "\n",
    "# Create a data augmentation block to apply on-the-fly transformations\n",
    "data_augmentation = tf.keras.Sequential([\n",
    "    layers.RandomFlip(\"horizontal\"),\n",
    "    layers.RandomRotation(0.2),\n",
    "    layers.RandomZoom(0.1)\n",
    "])\n",
    "\n",
    "# Build the new model\n",
    "VGG_16 = models.Sequential()\n",
    "\n",
    "# Input layer and data augmentation\n",
    "VGG_16.add(layers.Input(shape=input_shape))\n",
    "VGG_16.add(data_augmentation)\n",
    "\n",
    "# Load the pre-trained VGG16 model (excluding the top classification layers)\n",
    "vgg_model = VGG16(weights='imagenet', include_top=False, input_shape=input_shape)\n",
    "\n",
    "# Freeze all VGG16 layers initially\n",
    "for layer in vgg_model.layers:\n",
    "    layer.trainable = False\n",
    "\n",
    "# Unfreeze the last few layers to allow fine-tuning for better feature adaptation\n",
    "for layer in vgg_model.layers[-4:]:\n",
    "    layer.trainable = True\n",
    "\n",
    "# Add the VGG16 feature extractor to our model\n",
    "VGG_16.add(vgg_model)\n",
    "\n",
    "# Flatten the output from VGG16\n",
    "VGG_16.add(layers.Flatten())\n",
    "\n",
    "# Add improved fully-connected layers with batch normalization and dropout for regularization\n",
    "VGG_16.add(layers.Dense(128, activation='relu'))\n",
    "VGG_16.add(layers.BatchNormalization())\n",
    "VGG_16.add(layers.Dropout(0.5))\n",
    "VGG_16.add(layers.Dense(64, activation='relu'))\n",
    "VGG_16.add(layers.BatchNormalization())\n",
    "VGG_16.add(layers.Dropout(0.3))\n",
    "\n",
    "# Output layer for 2 classes (damage vs. no_damage) with softmax activation\n",
    "VGG_16.add(layers.Dense(2, activation='softmax'))\n",
    "\n",
    "# Compile the model with a lower learning rate for fine-tuning\n",
    "VGG_16.compile(optimizer=optimizers.Adam(learning_rate=1e-5),\n",
    "                  loss='sparse_categorical_crossentropy',\n",
    "                  metrics=['accuracy'])\n",
    "\n",
    "# Print the model summary to review the architecture\n",
    "VGG_16.summary()\n",
    "\n",
    "\n",
    "# fit the model from image generator\n",
    "history = VGG_16.fit(\n",
    "            train_rescale_ds,\n",
    "            batch_size=32,\n",
    "            epochs=40,\n",
    "            validation_data=val_rescale_ds,\n",
    ")"
   ]
  },
  {
   "cell_type": "code",
   "execution_count": 26,
   "id": "1ae1d8c2-bec6-492d-9256-ccb13c7f9af6",
   "metadata": {},
   "outputs": [
    {
     "name": "stdout",
     "output_type": "stream",
     "text": [
      "Loss on test: 0.09198959916830063\n",
      "Accuracy on test: 0.9688159227371216\n"
     ]
    }
   ],
   "source": [
    "test_loss, test_accuracy = VGG_16.evaluate(test_rescale_ds, verbose=0)\n",
    "print(f\"Loss on test: {test_loss}\")\n",
    "print(f\"Accuracy on test: {test_accuracy}\")"
   ]
  },
  {
   "cell_type": "code",
   "execution_count": 27,
   "id": "62de4a9d-3e1b-4207-862b-b499cbb36c72",
   "metadata": {},
   "outputs": [],
   "source": [
    "#save best model\n",
    "VGG_16.save(\"best.keras\")"
   ]
  },
  {
   "cell_type": "code",
   "execution_count": null,
   "id": "e4ab3625-7e83-4c57-b1a7-090e33920830",
   "metadata": {},
   "outputs": [],
   "source": []
  }
 ],
 "metadata": {
  "kernelspec": {
   "display_name": "Python 3 (ipykernel)",
   "language": "python",
   "name": "python3"
  },
  "language_info": {
   "codemirror_mode": {
    "name": "ipython",
    "version": 3
   },
   "file_extension": ".py",
   "mimetype": "text/x-python",
   "name": "python",
   "nbconvert_exporter": "python",
   "pygments_lexer": "ipython3",
   "version": "3.11.1"
  },
  "widgets": {
   "application/vnd.jupyter.widget-state+json": {
    "state": {},
    "version_major": 2,
    "version_minor": 0
   }
  }
 },
 "nbformat": 4,
 "nbformat_minor": 5
}
